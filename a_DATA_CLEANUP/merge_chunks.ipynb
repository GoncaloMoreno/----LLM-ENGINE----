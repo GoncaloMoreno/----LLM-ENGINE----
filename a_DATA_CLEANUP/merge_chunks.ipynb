{
 "cells": [
  {
   "cell_type": "code",
   "execution_count": 1,
   "id": "cb5d12c2",
   "metadata": {},
   "outputs": [],
   "source": [
    "import os\n",
    "import re\n",
    "\n",
    "# Path to your folder\n",
    "folder_path = r\"C:\\Users\\moren\\Desktop\\Masters\\--- LLM ENGINE ---\\1 DATA + CLEANUP\\game_files\\chunks\"\n",
    "\n",
    "# Output chunks\n",
    "output_files = [\n",
    "    (\"merged_1.txt\", range(0, 1000)),\n",
    "    (\"merged_2.txt\", range(1000, 2000)),\n",
    "    (\"merged_3.txt\", range(2000, 3000)),\n",
    "    (\"merged_4.txt\", range(3000, 4017)),\n",
    "]\n",
    "\n",
    "# Get all relevant files\n",
    "all_files = [f for f in os.listdir(folder_path) if f.endswith(\".pgn\") or f.endswith(\".txt\")]\n",
    "\n",
    "# Extract the number after \"chunks_\" using regex\n",
    "def extract_index(filename):\n",
    "    match = re.search(r\"chunks_(\\d+)_\", filename)\n",
    "    return int(match.group(1)) if match else -1\n",
    "\n",
    "# Sort files by the extracted number\n",
    "all_files.sort(key=extract_index)\n",
    "\n",
    "# Merge files into 4 chunks\n",
    "for output_name, file_range in output_files:\n",
    "    with open(output_name, \"w\", encoding=\"utf-8\") as outfile:\n",
    "        for i in file_range:\n",
    "            file_path = os.path.join(folder_path, all_files[i])\n",
    "            with open(file_path, \"r\", encoding=\"utf-8\") as infile:\n",
    "                outfile.write(infile.read())\n",
    "                outfile.write(\"\\n\")  # Add newline as separator"
   ]
  }
 ],
 "metadata": {
  "kernelspec": {
   "display_name": "Python 3",
   "language": "python",
   "name": "python3"
  },
  "language_info": {
   "codemirror_mode": {
    "name": "ipython",
    "version": 3
   },
   "file_extension": ".py",
   "mimetype": "text/x-python",
   "name": "python",
   "nbconvert_exporter": "python",
   "pygments_lexer": "ipython3",
   "version": "3.12.6"
  }
 },
 "nbformat": 4,
 "nbformat_minor": 5
}
