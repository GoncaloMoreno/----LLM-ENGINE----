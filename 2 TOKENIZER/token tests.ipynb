{
 "cells": [
  {
   "cell_type": "markdown",
   "id": "64bee1c5",
   "metadata": {},
   "source": [
    "# ideas\n",
    "- byte pair not a fan\n",
    "- add P for pawn\n",
    "- \\<w\\> and \\<z\\> colour encoding\n",
    "- 1., 2., .. move encoding\n",
    "- isolate piece notations / takes from moves?\n",
    "\n",
    "\n",
    "{P, R, N, B, Q, K} * {1, 2, ..., 8, a, b, ..., h}   {a1, a2, ..., h7, h8}   {x, +, #, O-O, O-O-O}   {n.w, n.z} =\n",
    "        6          *               16             +           64          +           5           +     n*2 \n",
    "\n",
    "\n",
    "Not sure if viable, will just stick to byte-pair encoding; although, interesting to consider\n",
    "\n"
   ]
  },
  {
   "cell_type": "markdown",
   "id": "452f7d23",
   "metadata": {},
   "source": [
    "---"
   ]
  },
  {
   "cell_type": "code",
   "execution_count": 1,
   "id": "1652ec58",
   "metadata": {},
   "outputs": [],
   "source": [
    "from tokenizers import Tokenizer\n",
    "import torch\n",
    "tokenizer = Tokenizer.from_file(\"chess_tokenizer.json\")"
   ]
  },
  {
   "cell_type": "code",
   "execution_count": 5,
   "id": "8a231b41",
   "metadata": {},
   "outputs": [
    {
     "name": "stderr",
     "output_type": "stream",
     "text": [
      "C:\\Users\\moren\\AppData\\Local\\Temp\\ipykernel_16996\\381044515.py:5: FutureWarning: You are using `torch.load` with `weights_only=False` (the current default value), which uses the default pickle module implicitly. It is possible to construct malicious pickle data which will execute arbitrary code during unpickling (See https://github.com/pytorch/pytorch/blob/main/SECURITY.md#untrusted-models for more details). In a future release, the default value for `weights_only` will be flipped to `True`. This limits the functions that could be executed during unpickling. Arbitrary objects will no longer be allowed to be loaded via this mode unless they are explicitly allowlisted by the user via `torch.serialization.add_safe_globals`. We recommend you start setting `weights_only=True` for any use case where you don't have full control of the loaded file. Please open an issue on GitHub for any issues related to this experimental feature.\n",
      "  token_tensor = torch.load(r'C:\\Users\\moren\\Desktop\\Masters\\--- LLM ENGINE ---\\1 DATA + CLEANUP\\game_files\\chunk_practice.pt')\n"
     ]
    }
   ],
   "source": [
    "import torch\n",
    "import json\n",
    "\n",
    "# Load the tokenized tensor and index map\n",
    "token_tensor = torch.load(r'C:\\Users\\moren\\Desktop\\Masters\\--- LLM ENGINE ---\\1 DATA + CLEANUP\\game_files\\chunk_practice.pt')\n",
    "with open(r'C:\\Users\\moren\\Desktop\\Masters\\--- LLM ENGINE ---\\1 DATA + CLEANUP\\game_files\\index_map_practice.json', \"r\") as f:\n",
    "    index_map = json.load(f)"
   ]
  },
  {
   "cell_type": "code",
   "execution_count": 6,
   "id": "dfcaa451",
   "metadata": {},
   "outputs": [
    {
     "name": "stdout",
     "output_type": "stream",
     "text": [
      " 1. e4 e5 2. Nf3 Nc6 3. Bb5 Nge7 4. c3 a6 5. Bxc6 Nxc6 6. O-O Bc5 7. d4 exd4 8. cxd4 Ba7 9. Re1 h6 10. Nc3 d6 11. Be3 Bg4 12. h3 Bd7 13. d5 Ne5 14. Bxa7 Rxa7 15. Nxe5 dxe5 16. Ne2 Qg5 17. Ng3 O-O 18. Qh5 Qf6 19. Re3 Qg6 20. Rc1 c6 21. Qxg6 fxg6 22. dxc6 Bxc6 23. f3 Raa8 24. Rd3 Rad8 25. Rcd1 Rxd3 26. Rxd3 a5 27. Ne2 a4 28. a3 Bb5 29. Rd2 Bxe2 30. Rxe2 Rc8 31. Rd2 Rc5 32. Kf2 b5 33. Rd5 Rc2+ 34. Ke3 Rxb2 35. Rxe5 Rb3+ 36. Kd4 Rxa3 37. Rxb5 Ra2 38. Ra5 a3 39. g4 g5 40. Kc3 Rf2 41. Rxa3 Rxf3+ 42. Kb4 Rxa3 43. Kxa3 Kf7 44. Kb3 Ke6 45. Kc4 Ke5 46. Kd3 g6 47. Ke3 h5 48. Kf3 Kd4 49. Kg3 Kxe4 50. gxh5 gxh5 51. Kh2 Kf4 52. Kg2 h4 53. Kh2 Kf3 54. Kh1 Kg3 55. Kg1 Kxh3 56. Kh1 Kg3 57. Kg1 Kf3 58. Kh1 g4 59. Kh2 h3 60. Kh1 Kf4 61. Kg1 Kg5 62. Kh1 Kh4 63. Kg1 g3 64. Kh1 Kg4 65. Kg1 Kh4 66. Kh1 h2 67. Kg2 Kg5 68. Kh1 Kf4 69. Kg2 Kg4 70. Kh1 Kf4 71. Kg2 Ke3 72. Kh1 Ke2 73. Kg2 Ke3 74. Kh1 Kf4 1/2-1/2\n"
     ]
    }
   ],
   "source": [
    "# Extract a specific game (e.g., Game 2)\n",
    "start, end = index_map[1]  # Index 1 corresponds to Game 2\n",
    "game_tokens = token_tensor[start:end]\n",
    "\n",
    "# Decode the game\n",
    "decoded_game = tokenizer.decode(game_tokens.tolist())\n",
    "print(decoded_game)"
   ]
  },
  {
   "cell_type": "code",
   "execution_count": 11,
   "id": "b20c9f8d",
   "metadata": {},
   "outputs": [
    {
     "data": {
      "text/plain": [
       "tensor([ 38,   8,  46,  14,  46,  15,  42,   8,  52,  13,  55,  16,  44,   8,\n",
       "         89,  14,  57,  16,  48,   8,  47,  14, 119,  14,  54,   8, 113,  14,\n",
       "        113,  14,  64,   8, 118,  14,  47,  16,  72,   8,  46,  15,  50,  15,\n",
       "         77,   8, 104,  14,  47,  15,  81,   8], dtype=torch.int32)"
      ]
     },
     "execution_count": 11,
     "metadata": {},
     "output_type": "execute_result"
    }
   ],
   "source": [
    "token_tensor[:50]"
   ]
  },
  {
   "cell_type": "code",
   "execution_count": 12,
   "id": "edbfd83a",
   "metadata": {},
   "outputs": [
    {
     "data": {
      "text/plain": [
       "' 1. e4 e5 2. Nf3 Nc6 3. Bc4 h6 4. d4 exd4 5. Nxd4 Nxd4 6. Qxd4 d6 7. e5 c5 8. Qf4 d5 9.'"
      ]
     },
     "execution_count": 12,
     "metadata": {},
     "output_type": "execute_result"
    }
   ],
   "source": [
    "tokenizer.decode(token_tensor[:50].tolist())"
   ]
  }
 ],
 "metadata": {
  "kernelspec": {
   "display_name": "Python 3",
   "language": "python",
   "name": "python3"
  },
  "language_info": {
   "codemirror_mode": {
    "name": "ipython",
    "version": 3
   },
   "file_extension": ".py",
   "mimetype": "text/x-python",
   "name": "python",
   "nbconvert_exporter": "python",
   "pygments_lexer": "ipython3",
   "version": "3.12.6"
  }
 },
 "nbformat": 4,
 "nbformat_minor": 5
}
