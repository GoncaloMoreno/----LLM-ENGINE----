{
 "cells": [
  {
   "cell_type": "code",
   "execution_count": 2,
   "id": "19ea5401",
   "metadata": {},
   "outputs": [
    {
     "ename": "InvalidMoveError",
     "evalue": "invalid san: ''",
     "output_type": "error",
     "traceback": [
      "\u001b[1;31m---------------------------------------------------------------------------\u001b[0m",
      "\u001b[1;31mInvalidMoveError\u001b[0m                          Traceback (most recent call last)",
      "Cell \u001b[1;32mIn[2], line 15\u001b[0m\n\u001b[0;32m     13\u001b[0m move \u001b[38;5;241m=\u001b[39m \u001b[38;5;28minput\u001b[39m()\n\u001b[0;32m     14\u001b[0m clear_output(wait\u001b[38;5;241m=\u001b[39m\u001b[38;5;28;01mTrue\u001b[39;00m)\n\u001b[1;32m---> 15\u001b[0m \u001b[43mboard\u001b[49m\u001b[38;5;241;43m.\u001b[39;49m\u001b[43mpush_san\u001b[49m\u001b[43m(\u001b[49m\u001b[43mmove\u001b[49m\u001b[43m)\u001b[49m\n\u001b[0;32m     16\u001b[0m display(board)\n\u001b[0;32m     18\u001b[0m l \u001b[38;5;241m=\u001b[39m \u001b[38;5;28mlist\u001b[39m(board\u001b[38;5;241m.\u001b[39mlegal_moves)\n",
      "File \u001b[1;32mc:\\Users\\moren\\AppData\\Local\\Programs\\Python\\Python312\\Lib\\site-packages\\chess\\__init__.py:3225\u001b[0m, in \u001b[0;36mBoard.push_san\u001b[1;34m(self, san)\u001b[0m\n\u001b[0;32m   3211\u001b[0m \u001b[38;5;28;01mdef\u001b[39;00m \u001b[38;5;21mpush_san\u001b[39m(\u001b[38;5;28mself\u001b[39m, san: \u001b[38;5;28mstr\u001b[39m) \u001b[38;5;241m-\u001b[39m\u001b[38;5;241m>\u001b[39m Move:\n\u001b[0;32m   3212\u001b[0m \u001b[38;5;250m    \u001b[39m\u001b[38;5;124;03m\"\"\"\u001b[39;00m\n\u001b[0;32m   3213\u001b[0m \u001b[38;5;124;03m    Parses a move in standard algebraic notation, makes the move and puts\u001b[39;00m\n\u001b[0;32m   3214\u001b[0m \u001b[38;5;124;03m    it onto the move stack.\u001b[39;00m\n\u001b[1;32m   (...)\u001b[0m\n\u001b[0;32m   3223\u001b[0m \u001b[38;5;124;03m        - :exc:`AmbiguousMoveError` if the SAN is ambiguous.\u001b[39;00m\n\u001b[0;32m   3224\u001b[0m \u001b[38;5;124;03m    \"\"\"\u001b[39;00m\n\u001b[1;32m-> 3225\u001b[0m     move \u001b[38;5;241m=\u001b[39m \u001b[38;5;28;43mself\u001b[39;49m\u001b[38;5;241;43m.\u001b[39;49m\u001b[43mparse_san\u001b[49m\u001b[43m(\u001b[49m\u001b[43msan\u001b[49m\u001b[43m)\u001b[49m\n\u001b[0;32m   3226\u001b[0m     \u001b[38;5;28mself\u001b[39m\u001b[38;5;241m.\u001b[39mpush(move)\n\u001b[0;32m   3227\u001b[0m     \u001b[38;5;28;01mreturn\u001b[39;00m move\n",
      "File \u001b[1;32mc:\\Users\\moren\\AppData\\Local\\Programs\\Python\\Python312\\Lib\\site-packages\\chess\\__init__.py:3157\u001b[0m, in \u001b[0;36mBoard.parse_san\u001b[1;34m(self, san)\u001b[0m\n\u001b[0;32m   3155\u001b[0m         \u001b[38;5;28;01mraise\u001b[39;00m InvalidMoveError(\u001b[38;5;124mf\u001b[39m\u001b[38;5;124m\"\u001b[39m\u001b[38;5;124munsupported multi-leg move: \u001b[39m\u001b[38;5;132;01m{\u001b[39;00msan\u001b[38;5;132;01m!r}\u001b[39;00m\u001b[38;5;124m\"\u001b[39m)\n\u001b[0;32m   3156\u001b[0m     \u001b[38;5;28;01melse\u001b[39;00m:\n\u001b[1;32m-> 3157\u001b[0m         \u001b[38;5;28;01mraise\u001b[39;00m InvalidMoveError(\u001b[38;5;124mf\u001b[39m\u001b[38;5;124m\"\u001b[39m\u001b[38;5;124minvalid san: \u001b[39m\u001b[38;5;132;01m{\u001b[39;00msan\u001b[38;5;132;01m!r}\u001b[39;00m\u001b[38;5;124m\"\u001b[39m)\n\u001b[0;32m   3159\u001b[0m \u001b[38;5;66;03m# Get target square. Mask our own pieces to exclude castling moves.\u001b[39;00m\n\u001b[0;32m   3160\u001b[0m to_square \u001b[38;5;241m=\u001b[39m SQUARE_NAMES\u001b[38;5;241m.\u001b[39mindex(match\u001b[38;5;241m.\u001b[39mgroup(\u001b[38;5;241m4\u001b[39m))\n",
      "\u001b[1;31mInvalidMoveError\u001b[0m: invalid san: ''"
     ]
    }
   ],
   "source": [
    "import chess\n",
    "import chess.svg\n",
    "import time\n",
    "from IPython.display import clear_output\n",
    "from random import choice\n",
    "\n",
    "board = chess.Board()\n",
    "moves = ['e4', 'e5', 'Qh5', 'Nc6', 'Bc4', 'Nf6', 'Qxf7']\n",
    "\n",
    "display(board)\n",
    "for i in range(10):\n",
    "    #time.sleep(0.8)\n",
    "    move = input()\n",
    "    clear_output(wait=True)\n",
    "    board.push_san(move)\n",
    "    display(board)\n",
    "    \n",
    "    l = list(board.legal_moves)\n",
    "    move = choice(l)\n",
    "    clear_output(wait=True)\n",
    "    board.push(move)\n",
    "    display(board)\n",
    "    "
   ]
  }
 ],
 "metadata": {
  "kernelspec": {
   "display_name": "Python 3",
   "language": "python",
   "name": "python3"
  },
  "language_info": {
   "codemirror_mode": {
    "name": "ipython",
    "version": 3
   },
   "file_extension": ".py",
   "mimetype": "text/x-python",
   "name": "python",
   "nbconvert_exporter": "python",
   "pygments_lexer": "ipython3",
   "version": "3.12.6"
  }
 },
 "nbformat": 4,
 "nbformat_minor": 5
}
