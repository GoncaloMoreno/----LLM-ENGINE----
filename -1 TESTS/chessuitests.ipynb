{
 "cells": [
  {
   "cell_type": "code",
   "execution_count": null,
   "id": "19ea5401",
   "metadata": {},
   "outputs": [],
   "source": [
    "import chess\n",
    "import chess.svg\n",
    "import time\n",
    "from IPython.display import clear_output\n",
    "from random import choice\n",
    "\n",
    "board = chess.Board()\n",
    "moves = ['e4', 'e5', 'Qh5', 'Nc6', 'Bc4', 'Nf6', 'Qxf7']\n",
    "\n",
    "display(board)\n",
    "for i in range(10):\n",
    "    #time.sleep(0.8)\n",
    "    move = input()\n",
    "    clear_output(wait=True)\n",
    "    board.push_san(move)\n",
    "    display(board)\n",
    "    \n",
    "    l = list(board.legal_moves)\n",
    "    move = choice(l)\n",
    "    clear_output(wait=True)\n",
    "    board.push(move)\n",
    "    display(board)\n",
    "    "
   ]
  }
 ],
 "metadata": {
  "kernelspec": {
   "display_name": "Python 3",
   "language": "python",
   "name": "python3"
  },
  "language_info": {
   "codemirror_mode": {
    "name": "ipython",
    "version": 3
   },
   "file_extension": ".py",
   "mimetype": "text/x-python",
   "name": "python",
   "nbconvert_exporter": "python",
   "pygments_lexer": "ipython3",
   "version": "3.12.6"
  }
 },
 "nbformat": 4,
 "nbformat_minor": 5
}
