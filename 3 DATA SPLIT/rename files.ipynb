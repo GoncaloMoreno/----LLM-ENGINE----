{
 "cells": [
  {
   "cell_type": "code",
   "execution_count": null,
   "id": "263c496a",
   "metadata": {},
   "outputs": [],
   "source": [
    "# rename files in a directory\n",
    "import os\n",
    "from pathlib import Path\n",
    "root = Path().resolve().parent\n",
    "\n",
    "for file in (root / '1 DATA + CLEANUP' / 'game_files').iterdir():\n",
    "    if 'token' in file.name:\n",
    "        # change tokenized to training\n",
    "        new_name = file.name.replace('tokenized', 'training')\n",
    "        file.rename(root / '1 DATA + CLEANUP' / 'game_files' / new_name)\n",
    "\n",
    "# renamed val/test files by hand\n",
    "# changed to testing_data"
   ]
  }
 ],
 "metadata": {
  "kernelspec": {
   "display_name": "Python 3",
   "language": "python",
   "name": "python3"
  },
  "language_info": {
   "codemirror_mode": {
    "name": "ipython",
    "version": 3
   },
   "file_extension": ".py",
   "mimetype": "text/x-python",
   "name": "python",
   "nbconvert_exporter": "python",
   "pygments_lexer": "ipython3",
   "version": "3.12.6"
  }
 },
 "nbformat": 4,
 "nbformat_minor": 5
}
