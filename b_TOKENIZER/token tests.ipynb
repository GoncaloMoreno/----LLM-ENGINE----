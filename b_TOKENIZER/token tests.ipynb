{
 "cells": [
  {
   "cell_type": "markdown",
   "id": "64bee1c5",
   "metadata": {},
   "source": [
    "# ideas\n",
    "- byte pair not a fan\n",
    "- add P for pawn\n",
    "- \\<w\\> and \\<z\\> colour encoding\n",
    "- 1., 2., .. move encoding\n",
    "- isolate piece notations / takes from moves?\n",
    "\n",
    "\n",
    "{P, R, N, B, Q, K} * {1, 2, ..., 8, a, b, ..., h}   {a1, a2, ..., h7, h8}   {x, +, #, O-O, O-O-O}   {n.w, n.z} =\n",
    "        6          *               16             +           64          +           5           +     n*2 \n",
    "\n",
    "\n",
    "Not sure if viable, will just stick to byte-pair encoding; although, interesting to consider\n",
    "\n"
   ]
  },
  {
   "cell_type": "markdown",
   "id": "452f7d23",
   "metadata": {},
   "source": [
    "---"
   ]
  },
  {
   "cell_type": "code",
   "execution_count": 1,
   "id": "1652ec58",
   "metadata": {},
   "outputs": [],
   "source": [
    "from tokenizers import Tokenizer\n",
    "import torch\n",
    "tokenizer = Tokenizer.from_file(\"chess_tokenizer_CLEAN.json\")"
   ]
  },
  {
   "cell_type": "code",
   "execution_count": 3,
   "id": "8a231b41",
   "metadata": {},
   "outputs": [],
   "source": [
    "import torch\n",
    "import json\n",
    "\n",
    "# Load the tokenized tensor and index map\n",
    "token_tensor = torch.load(r'E:\\LLM_ENGINE\\a_DATA_CLEANUP\\games_for_CLEAN\\tokenized_chunk_0.pt')\n",
    "with open(r'E:\\LLM_ENGINE\\a_DATA_CLEANUP\\games_for_CLEAN\\index_map_0.json', \"r\") as f:\n",
    "    index_map = json.load(f)"
   ]
  },
  {
   "cell_type": "code",
   "execution_count": 7,
   "id": "dfcaa451",
   "metadata": {},
   "outputs": [
    {
     "name": "stdout",
     "output_type": "stream",
     "text": [
      "<S> e4 c6 d4 d5 exd5 cxd5 Bd3 Nf6 h3 Nc6 c3 e5 dxe5 Nxe5 Be2 Bd6 Nf3 Nxf3+ Bxf3 Be6 O-O Qc7 Nd2 Rd8 Nb3 h6 Nd4 O-O Re1 a6 Rxe6 fxe6 Nxe6 Qa5 Nxf8 Rxf8 Be3 Ne4 Bd4 Bc5 Qd3 Bxd4 Qxd4 Qb5 Rd1 Qxb2 Qxd5+ Kh8 Bxe4 Qxf2+ Kh1 Qg3 Qe6 b5 Qg6 Qxg6 Bxg6 Rf2 1-0\n"
     ]
    }
   ],
   "source": [
    "# Extract a specific game (e.g., Game 2)\n",
    "start, end = index_map[3]  # Index 1 corresponds to Game 2\n",
    "game_tokens = token_tensor[start:end]\n",
    "\n",
    "# Decode the game\n",
    "decoded_game = tokenizer.decode(game_tokens.tolist())\n",
    "print(decoded_game)"
   ]
  },
  {
   "cell_type": "code",
   "execution_count": null,
   "id": "b20c9f8d",
   "metadata": {},
   "outputs": [],
   "source": [
    "token_tensor[0:index_map[4][1]].tolist()"
   ]
  },
  {
   "cell_type": "code",
   "execution_count": 12,
   "id": "edbfd83a",
   "metadata": {},
   "outputs": [
    {
     "data": {
      "text/plain": [
       "' 1. e4 e5 2. Nf3 Nc6 3. Bc4 h6 4. d4 exd4 5. Nxd4 Nxd4 6. Qxd4 d6 7. e5 c5 8. Qf4 d5 9.'"
      ]
     },
     "execution_count": 12,
     "metadata": {},
     "output_type": "execute_result"
    }
   ],
   "source": [
    "tokenizer.decode(token_tensor[:50].tolist())"
   ]
  }
 ],
 "metadata": {
  "kernelspec": {
   "display_name": "Python 3",
   "language": "python",
   "name": "python3"
  },
  "language_info": {
   "codemirror_mode": {
    "name": "ipython",
    "version": 3
   },
   "file_extension": ".py",
   "mimetype": "text/x-python",
   "name": "python",
   "nbconvert_exporter": "python",
   "pygments_lexer": "ipython3",
   "version": "3.12.6"
  }
 },
 "nbformat": 4,
 "nbformat_minor": 5
}
