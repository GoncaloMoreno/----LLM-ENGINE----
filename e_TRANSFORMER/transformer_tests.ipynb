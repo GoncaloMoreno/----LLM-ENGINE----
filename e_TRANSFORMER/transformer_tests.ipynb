{
 "cells": [
  {
   "cell_type": "code",
   "execution_count": 3,
   "metadata": {},
   "outputs": [
    {
     "ename": "NameError",
     "evalue": "name '__file__' is not defined",
     "output_type": "error",
     "traceback": [
      "\u001b[31m---------------------------------------------------------------------------\u001b[39m",
      "\u001b[31mNameError\u001b[39m                                 Traceback (most recent call last)",
      "\u001b[36mCell\u001b[39m\u001b[36m \u001b[39m\u001b[32mIn[3]\u001b[39m\u001b[32m, line 5\u001b[39m\n\u001b[32m      3\u001b[39m \u001b[38;5;28;01mimport\u001b[39;00m\u001b[38;5;250m \u001b[39m\u001b[34;01mtorch\u001b[39;00m\n\u001b[32m      4\u001b[39m \u001b[38;5;66;03m# Add parent directory to Python path for imports\u001b[39;00m\n\u001b[32m----> \u001b[39m\u001b[32m5\u001b[39m sys.path.append(os.path.dirname(os.path.dirname(os.path.abspath(\u001b[34;43m__file__\u001b[39;49m))))\n\u001b[32m      7\u001b[39m \u001b[38;5;28;01mfrom\u001b[39;00m\u001b[38;5;250m \u001b[39m\u001b[34;01me_TRANSFORMER\u001b[39;00m\u001b[34;01m.\u001b[39;00m\u001b[34;01mtransformer_model\u001b[39;00m\u001b[38;5;250m \u001b[39m\u001b[38;5;28;01mimport\u001b[39;00m ChessTransformerDecoder\n\u001b[32m      8\u001b[39m \u001b[38;5;28;01mfrom\u001b[39;00m\u001b[38;5;250m \u001b[39m\u001b[34;01mtokenizers\u001b[39;00m\u001b[38;5;250m \u001b[39m\u001b[38;5;28;01mimport\u001b[39;00m Tokenizer\n",
      "\u001b[31mNameError\u001b[39m: name '__file__' is not defined"
     ]
    }
   ],
   "source": [
    "import sys\n",
    "import os\n",
    "import torch\n",
    "# Add parent directory to Python path for imports\n",
    "sys.path.append(os.path.dirname(os.path.dirname(os.path.abspath(__file__))))\n",
    "\n",
    "from e_TRANSFORMER.transformer_model import ChessTransformerDecoder\n",
    "from tokenizers import Tokenizer\n",
    "from pathlib import Path\n",
    "import argparse\n",
    "\n",
    "def load_model(checkpoint_path, device):\n",
    "    # Load checkpoint\n",
    "    checkpoint = torch.load(checkpoint_path, map_location=device)\n",
    "    \n",
    "    # If config is not in checkpoint, use default values\n",
    "    if 'config' not in checkpoint:\n",
    "        config = {\n",
    "            'vocab_size': 852,  # Default vocab size\n",
    "            'd_model': 128,\n",
    "            'nhead': 4,\n",
    "            'num_decoder_layers': 2,\n",
    "            'dim_feedforward': 1024,\n",
    "            'dropout': 0.1,\n",
    "            'max_seq_length': 600\n",
    "        }\n",
    "    else:\n",
    "        config = checkpoint['config']\n",
    "    \n",
    "    # Initialize model with config\n",
    "    model = ChessTransformerDecoder(\n",
    "        vocab_size=config['vocab_size'],\n",
    "        d_model=config['d_model'],\n",
    "        nhead=config['nhead'],\n",
    "        num_decoder_layers=config['num_decoder_layers'],\n",
    "        dim_feedforward=config['dim_feedforward'],\n",
    "        dropout=config['dropout'],\n",
    "        max_seq_length=config['max_seq_length']\n",
    "    ).to(device)\n",
    "    \n",
    "    # Load model state\n",
    "    model.load_state_dict(checkpoint['model_state_dict'])\n",
    "    model.eval()\n",
    "    \n",
    "    return model, config"
   ]
  }
 ],
 "metadata": {
  "kernelspec": {
   "display_name": "Python 3",
   "language": "python",
   "name": "python3"
  },
  "language_info": {
   "codemirror_mode": {
    "name": "ipython",
    "version": 3
   },
   "file_extension": ".py",
   "mimetype": "text/x-python",
   "name": "python",
   "nbconvert_exporter": "python",
   "pygments_lexer": "ipython3",
   "version": "3.12.6"
  }
 },
 "nbformat": 4,
 "nbformat_minor": 2
}
